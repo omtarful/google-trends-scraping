{
 "cells": [
  {
   "cell_type": "code",
   "execution_count": 70,
   "metadata": {},
   "outputs": [],
   "source": [
    "#open files u need to fix as a data frame\n",
    "import pandas as pd\n",
    "italy_region_2010_monthly = pd.read_csv(r\"output\\italy_region_2010_monthly_interest_over_time.csv\")\n",
    "italy_region_2011_monthly = pd.read_csv(r\"output\\italy_region_2011_monthly_interest_over_time.csv\")\n",
    "uae_region_2016_monthly = pd.read_csv(r\"output\\uae_region_2016_monthly_interest_over_time.csv\")\n",
    "us_2004_monthly = pd.read_csv(r\"output\\us_2004_monthly_interest_over_time.csv\")\n",
    "us_region_2004_monthly = pd.read_csv(r\"output\\us_region_2004_monthly_interest_over_time.csv\")"
   ]
  },
  {
   "cell_type": "code",
   "execution_count": 71,
   "metadata": {},
   "outputs": [],
   "source": [
    "\n",
    "italy_region_2010_monthly.date = pd.DatetimeIndex(italy_region_2010_monthly.date).to_period(\"M\")\n",
    "italy_region_2011_monthly.date = pd.DatetimeIndex(italy_region_2011_monthly.date).to_period(\"M\")\n",
    "uae_region_2016_monthly.date = pd.DatetimeIndex(uae_region_2016_monthly.date).to_period(\"M\")\n",
    "us_2004_monthly.date = pd.DatetimeIndex(us_2004_monthly.date).to_period(\"M\")\n",
    "us_region_2004_monthly.date =  pd.DatetimeIndex(us_region_2004_monthly.date).to_period(\"M\")"
   ]
  },
  {
   "cell_type": "code",
   "execution_count": 72,
   "metadata": {},
   "outputs": [],
   "source": [
    "#swap columns here\n",
    "col = us_region_2004_monthly.pop(\"Region\")\n",
    "us_region_2004_monthly.insert(0, col.name, col)\n"
   ]
  },
  {
   "cell_type": "code",
   "execution_count": 73,
   "metadata": {},
   "outputs": [],
   "source": [
    "italy_region_2010_monthly.to_csv(\"italy_region_2010_monthly_interest_over_time.csv\", index=False)\n",
    "italy_region_2011_monthly.to_csv(\"italy_region_2011_monthly_interest_over_time.csv\", index=False)\n",
    "uae_region_2016_monthly.to_csv(\"uae_region_2016_monthly_interest_over_time.csv\", index=False)\n",
    "us_2004_monthly.to_csv(\"us_2004_monthly_interest_over_time.csv\", index=False)\n",
    "us_region_2004_monthly.to_csv(\"us_region_2004_monthly_interest_over_time.csv\", index=False)"
   ]
  }
 ],
 "metadata": {
  "interpreter": {
   "hash": "2be5faf79681da6f2a61fdfdd5405d65d042280f7fba6178067603e3a2925119"
  },
  "kernelspec": {
   "display_name": "Python 3.10.2 64-bit",
   "language": "python",
   "name": "python3"
  },
  "language_info": {
   "codemirror_mode": {
    "name": "ipython",
    "version": 3
   },
   "file_extension": ".py",
   "mimetype": "text/x-python",
   "name": "python",
   "nbconvert_exporter": "python",
   "pygments_lexer": "ipython3",
   "version": "3.10.2"
  },
  "orig_nbformat": 4
 },
 "nbformat": 4,
 "nbformat_minor": 2
}
