{
 "cells": [
  {
   "cell_type": "markdown",
   "metadata": {},
   "source": [
    "# Scraping Project"
   ]
  },
  {
   "cell_type": "markdown",
   "metadata": {},
   "source": [
    "## Connecting to Google Trends\n",
    "This code connects to google trends and created a function to convert terms to topic ids to perform topic search when possible."
   ]
  },
  {
   "cell_type": "code",
   "execution_count": 9,
   "metadata": {},
   "outputs": [],
   "source": [
    "#This lines connect to Google Trends\n",
    "from pytrends.request import TrendReq\n",
    "import pandas as pd\n",
    "import re\n",
    "from itertools import product\n",
    "import requests\n",
    "import time\n",
    "from datetime import datetime\n",
    "\n",
    "#Sets up language to host language\n",
    "pytrends = TrendReq(hl='en-US')\n",
    "#function takes as input a keyword and returns topic id\n",
    "def getTopicID(word):\n",
    "    #get suggested searches for word\n",
    "    suggs = []\n",
    "    try:\n",
    "        suggs = pytrends.suggestions(word)\n",
    "    except requests.exceptions.Timeout:\n",
    "        print(\"Timeout ocurred\")\n",
    "  \n",
    "\n",
    "    #check each suggestion and see if contains a topic\n",
    "    for s in range(len(suggs)):\n",
    "        #if the type of suggestion is a topic, return the topic id\n",
    "        pattern = suggs[s].get(\"title\").lower() + \"(s|es|os)\"\n",
    "        if suggs[s].get(\"type\") == \"Topic\" and (suggs[s].get(\"title\").lower() == word.lower() or re.match(pattern, word.lower() )): \n",
    "            return(suggs[s].get(\"mid\"))\n",
    "    #returns None if there is no topic id\n",
    "    return word\n",
    "     "
   ]
  },
  {
   "cell_type": "markdown",
   "metadata": {},
   "source": [
    "Here we choose the payload parameters for the request to be sent to the server. There are 5 different inputs to the payload like the original platform. Wrapped it in a function to get table for all topics and comparisons."
   ]
  },
  {
   "cell_type": "code",
   "execution_count": 2,
   "metadata": {},
   "outputs": [],
   "source": [
    "#function to get interest over time depending on the region\n",
    "def get_interest_over_time(kw_list, kw_comp_list, timeframes, ct, geo, gprop):\n",
    "    attempts, fetched = 0, False\n",
    "    #converts kw to ids to do topic look up\n",
    "    topicID_list = kw_list\n",
    "    comp_topicID = kw_comp_list\n",
    "    #keyword dictionary used to rename columns\n",
    "    #keys are ids, values are keywords\n",
    "    kw_dict = dict(zip(topicID_list, kw_list))\n",
    "    kw_dict.update(dict(zip(comp_topicID, kw_comp_list)))\n",
    "    objective_df = pd.DataFrame()\n",
    "    all_columns = topicID_list + [e for e in product(comp_topicID, topicID_list)]  \n",
    "    for column in all_columns:\n",
    "        term = [column] if isinstance(column, str) else column\n",
    "        #catches exception when there is a timeout on google trends\n",
    "        #it's useful to continue running after timeout\n",
    "        try:\n",
    "            pytrends.build_payload(\n",
    "                kw_list= term,\n",
    "                cat = 0,\n",
    "                timeframe = timeframes,\n",
    "                geo = geo,\n",
    "                gprop = \"\"\n",
    "                    )\n",
    "           \n",
    "            time.sleep(0) #wait some seconds before sending the next request\n",
    "            #for a larger number of requests it should wait 60s\n",
    "        except requests.exceptions.Timeout:\n",
    "            print(\"Timeout ocurred\")\n",
    "       \n",
    "        partial_data = pytrends.interest_over_time() #data per column\n",
    "        #handle in case there are no results\n",
    "        if(partial_data.empty):\n",
    "            partial_data[term] = \"\" \n",
    "        else:\n",
    "            partial_data = partial_data.drop(\"isPartial\", axis = 1) #deletes column that has partial data\n",
    "        #change column name \n",
    "        #2 cases\n",
    "        #2 columns\n",
    "        #if else statement to determine how to name columns\n",
    "        if(len(partial_data.columns) > 1):\n",
    "            #change column name to term_term2\n",
    "            partial_data.rename(columns = kw_dict, inplace=True)\n",
    "            new_col_names = {partial_data.columns[0]:(partial_data.columns[0] + \"_\" + partial_data.columns[1]),\n",
    "                            partial_data.columns[1]:(partial_data.columns[1] + \"_\" + partial_data.columns[0])}\n",
    "            partial_data.rename(columns = new_col_names, inplace=True)\n",
    "        if(len(partial_data.columns) == 1):\n",
    "            #change column name to term2_term\n",
    "            partial_data.rename(columns = kw_dict, inplace=True)\n",
    "        #1 columns  \n",
    "        objective_df = pd.concat([objective_df, partial_data], axis=1)\n",
    "    return(objective_df)\n",
    "#italy dataframe\n",
    "#function accepts the following arguments\n",
    "#list of keywords used in the search\n",
    "kw_list = [\"Global warming\", \"climate change\", \"greenhouse gas\", \"renewable energy\", \n",
    "            \"sustainability\", \"Climate disaster\", \"green energy\", \"green investment\",\n",
    "            \"green production\"]  \n",
    "kw_comp_list = [\"Job\", \"health\", \"education\", \"drugs\"]\n",
    "gprop = '' #web search\n",
    "ct = 0 #means all categories\n"
   ]
  },
  {
   "cell_type": "code",
   "execution_count": 177,
   "metadata": {},
   "outputs": [
    {
     "name": "stdout",
     "output_type": "stream",
     "text": [
      "/m/0kt51\n",
      "['/g/11ksgqqmy', '/m/0d063v', '/m/0990h', '/m/06fhs', 'sustainability', 'Climate disaster', '/g/122dlgkc', 'green investment', 'green production', ('/m/04115t2', '/g/11ksgqqmy'), ('/m/04115t2', '/m/0d063v'), ('/m/04115t2', '/m/0990h'), ('/m/04115t2', '/m/06fhs'), ('/m/04115t2', 'sustainability'), ('/m/04115t2', 'Climate disaster'), ('/m/04115t2', '/g/122dlgkc'), ('/m/04115t2', 'green investment'), ('/m/04115t2', 'green production'), ('/m/0kt51', '/g/11ksgqqmy'), ('/m/0kt51', '/m/0d063v'), ('/m/0kt51', '/m/0990h'), ('/m/0kt51', '/m/06fhs'), ('/m/0kt51', 'sustainability'), ('/m/0kt51', 'Climate disaster'), ('/m/0kt51', '/g/122dlgkc'), ('/m/0kt51', 'green investment'), ('/m/0kt51', 'green production'), ('/m/02jfc', '/g/11ksgqqmy'), ('/m/02jfc', '/m/0d063v'), ('/m/02jfc', '/m/0990h'), ('/m/02jfc', '/m/06fhs'), ('/m/02jfc', 'sustainability'), ('/m/02jfc', 'Climate disaster'), ('/m/02jfc', '/g/122dlgkc'), ('/m/02jfc', 'green investment'), ('/m/02jfc', 'green production'), ('/m/02kjb_', '/g/11ksgqqmy'), ('/m/02kjb_', '/m/0d063v'), ('/m/02kjb_', '/m/0990h'), ('/m/02kjb_', '/m/06fhs'), ('/m/02kjb_', 'sustainability'), ('/m/02kjb_', 'Climate disaster'), ('/m/02kjb_', '/g/122dlgkc'), ('/m/02kjb_', 'green investment'), ('/m/02kjb_', 'green production')]\n"
     ]
    }
   ],
   "source": [
    "topicID_list = [getTopicID(kw) for kw in kw_list]\n",
    "comp_topicID = [getTopicID(kw) for kw in kw_comp_list] \n",
    "#keyword dictionary used to rename columns\n",
    "#keys are ids, values are keywords\n",
    "kw_dict = dict(zip(topicID_list, kw_list))\n",
    "kw_dict.update(dict(zip(comp_topicID, kw_comp_list)))\n",
    "objective_df = pd.DataFrame()\n",
    "all_columns = topicID_list + [e for e in product(comp_topicID, topicID_list)]  \n",
    "print(getTopicID(\"health\"))\n",
    "print(all_columns)"
   ]
  },
  {
   "cell_type": "markdown",
   "metadata": {},
   "source": [
    "## Italy\n",
    "### National \n",
    "#### Monthly"
   ]
  },
  {
   "cell_type": "code",
   "execution_count": null,
   "metadata": {},
   "outputs": [],
   "source": [
    "#geographical location\n",
    "geo = 'IT' #Italy\n",
    "#time frame\n",
    "timeframes = '2010-01-01 2021-12-31' \n",
    "italy_2010_monthly_df = get_interest_over_time(kw_list, kw_comp_list, timeframes, ct, geo, gprop)\n",
    "#write to csv\n",
    "italy_2010_monthly_df.to_csv(\"italy_2010_monthly_interest_over_time.csv\")\n",
    "#italy monthly 2011 - 2021\n",
    "timeframes = '2011-01-01 2021-12-31' \n",
    "italy_2011_monthly_df = get_interest_over_time(kw_list, kw_comp_list, timeframes, ct, geo, gprop)\n",
    "#write to csv file\n",
    "italy_2011_monthly_df.to_csv(\"italy_2011_monthly_interest_over_time.csv\")"
   ]
  },
  {
   "cell_type": "markdown",
   "metadata": {},
   "source": [
    "#### Quarterly"
   ]
  },
  {
   "cell_type": "code",
   "execution_count": 11,
   "metadata": {},
   "outputs": [],
   "source": [
    "def to_quartertly(df):\n",
    "    grouper = df.groupby([pd.Grouper(freq='Q')])\n",
    "    region_df_quarter = grouper.mean().reset_index()\n",
    "    #format date to look decent\n",
    "    return(region_df_quarter)\n",
    "italy_2010_quarterly_df = to_quartertly(italy_2010_monthly_df)\n",
    "italy_2010_quarterly_df.to_csv(\"italy_2010_quarterly_interest_over_time.csv\", index=False)\n",
    "italy_2011_quarterly_df = to_quartertly(italy_2011_monthly_df)\n",
    "italy_2011_quarterly_df.to_csv(\"italy_2011_quarterly_interest_over_time.csv\", index=False)\n"
   ]
  },
  {
   "cell_type": "markdown",
   "metadata": {},
   "source": [
    "### Regional"
   ]
  },
  {
   "cell_type": "code",
   "execution_count": 38,
   "metadata": {},
   "outputs": [],
   "source": [
    "def get_regional_data(kw_list, kw_comp_list, timeframes, ct, geo, gprop):\n",
    "    #get regions\n",
    "    regions = []\n",
    "    try:\n",
    "        pytrends.build_payload(\n",
    "            kw_list= [kw_list[0]],\n",
    "            cat = 0,\n",
    "            timeframe = timeframes,\n",
    "            geo = geo,\n",
    "            gprop = \"\"\n",
    "            )\n",
    "        #returns region ISO code\n",
    "    except requests.exceptions.Timeout:\n",
    "        print(\"Timeout ocurred\")\n",
    "    regions = pytrends.interest_by_region(inc_geo_code=True)\n",
    "    #extract region ISO code from df\n",
    "    geos = regions.geoCode\n",
    "    #create regional data frame\n",
    "    region_df = pd.DataFrame()\n",
    "    #gets interest over time for each region and then appends them together\n",
    "    for i in range(len(geos)):\n",
    "        regions = get_interest_over_time(kw_list, kw_comp_list, timeframes, ct, geos[i], gprop)\n",
    "        regions.insert(loc=0, column=\"Region\", value=geos.index[i])\n",
    "        region_df = region_df.append(regions)\n",
    "    region_df.insert(1, 'date', region_df.index)\n",
    "    region_df.reset_index(drop = True)\n",
    "    return(region_df)\n"
   ]
  },
  {
   "cell_type": "markdown",
   "metadata": {},
   "source": [
    "#### Monthly"
   ]
  },
  {
   "cell_type": "code",
   "execution_count": null,
   "metadata": {},
   "outputs": [],
   "source": [
    "timeframes = '2010-01-01 2021-12-31' \n",
    "geo = \"IT\"\n",
    "italy_region_2010_monthly_interest_over_time = get_regional_data(kw_list, kw_comp_list, timeframes, ct, geo, gprop)\n",
    "italy_region_2010_monthly_interest_over_time.to_csv(\"italy_region_2010_monthly_interest_over_time.csv\", index=False)\n"
   ]
  },
  {
   "cell_type": "code",
   "execution_count": null,
   "metadata": {},
   "outputs": [],
   "source": [
    "timeframes = '2011-01-01 2021-12-31' \n",
    "italy_region_2011_monthly_interest_over_time = get_regional_data(kw_list, kw_comp_list, timeframes, ct, geo, gprop)\n",
    "italy_region_2011_monthly_interest_over_time.to_csv(\"italy_region_2011_monthly_interest_over_time.csv\", index=False)"
   ]
  },
  {
   "cell_type": "markdown",
   "metadata": {},
   "source": [
    "#### Quarterly"
   ]
  },
  {
   "cell_type": "code",
   "execution_count": 118,
   "metadata": {},
   "outputs": [],
   "source": [
    "#converts data to quarter and writes in csv file\n",
    "def to_quarter(df):\n",
    "    df = df.fillna(-1)\n",
    "    grouper = df.groupby([\"Region\", pd.Grouper(freq='Q')], dropna=False)\n",
    "    region_df_quarter = grouper.mean().reset_index()\n",
    "    region_df_quarter.level_1 = pd.DatetimeIndex(region_df_quarter.level_1).to_period('Q')\n",
    "    region_df_quarter.rename(columns = {'level_1':'date'}, inplace = True)\n",
    "    region_df_quarter = region_df_quarter.replace(-1, \"\")\n",
    "    return(region_df_quarter)\n",
    "to_quarter(italy_region_2010_monthly_interest_over_time).to_csv(\"italy_region_2010_quarterly_interest_over_time.csv\", index=False)\n",
    "to_quarter(italy_region_2011_monthly_interest_over_time).to_csv(\"italy_region_2011_quarterly_interest_over_time.csv\", index=False)\n"
   ]
  },
  {
   "cell_type": "markdown",
   "metadata": {},
   "source": [
    "## UAE\n",
    "### National"
   ]
  },
  {
   "cell_type": "code",
   "execution_count": 133,
   "metadata": {},
   "outputs": [],
   "source": [
    "#UAE national (monthly) from Jan 2016 until December 2021\n",
    "geo = \"AE\"\n",
    "timeframes = '2016-01-01 2021-12-31'\n",
    "uae_2016_monthly_df = get_interest_over_time(kw_list, kw_comp_list, timeframes, ct, geo, gprop)\n",
    "uae_2016_monthly_df.index = pd.DatetimeIndex(uae_2016_monthly_df.index)\n",
    "uae_2016_monthly_df.index.name = \"date\"\n",
    "uae_2016_monthly_df.index = uae_2016_monthly_df.index.to_period(\"M\")\n",
    "uae_2016_monthly_df.to_csv(\"uae_2016_monthly_interest_over_time.csv\")"
   ]
  },
  {
   "cell_type": "code",
   "execution_count": 134,
   "metadata": {},
   "outputs": [
    {
     "name": "stderr",
     "output_type": "stream",
     "text": [
      "C:\\Users\\User\\AppData\\Local\\Temp\\ipykernel_8744\\4054768505.py:24: FutureWarning: The frame.append method is deprecated and will be removed from pandas in a future version. Use pandas.concat instead.\n",
      "  region_df = region_df.append(regions)\n",
      "C:\\Users\\User\\AppData\\Local\\Temp\\ipykernel_8744\\4054768505.py:24: FutureWarning: The frame.append method is deprecated and will be removed from pandas in a future version. Use pandas.concat instead.\n",
      "  region_df = region_df.append(regions)\n",
      "C:\\Users\\User\\AppData\\Local\\Temp\\ipykernel_8744\\4054768505.py:24: FutureWarning: The frame.append method is deprecated and will be removed from pandas in a future version. Use pandas.concat instead.\n",
      "  region_df = region_df.append(regions)\n",
      "C:\\Users\\User\\AppData\\Local\\Temp\\ipykernel_8744\\4054768505.py:24: FutureWarning: The frame.append method is deprecated and will be removed from pandas in a future version. Use pandas.concat instead.\n",
      "  region_df = region_df.append(regions)\n",
      "C:\\Users\\User\\AppData\\Local\\Temp\\ipykernel_8744\\4054768505.py:24: FutureWarning: The frame.append method is deprecated and will be removed from pandas in a future version. Use pandas.concat instead.\n",
      "  region_df = region_df.append(regions)\n",
      "C:\\Users\\User\\AppData\\Local\\Temp\\ipykernel_8744\\4054768505.py:24: FutureWarning: The frame.append method is deprecated and will be removed from pandas in a future version. Use pandas.concat instead.\n",
      "  region_df = region_df.append(regions)\n",
      "C:\\Users\\User\\AppData\\Local\\Temp\\ipykernel_8744\\4054768505.py:24: FutureWarning: The frame.append method is deprecated and will be removed from pandas in a future version. Use pandas.concat instead.\n",
      "  region_df = region_df.append(regions)\n"
     ]
    }
   ],
   "source": [
    "#UAE regions (monthly) from Jan 2016 until December 2021\n",
    "geo = \"AE\"\n",
    "timeframes = '2016-01-01 2021-12-31'\n",
    "uae_region_2016_monthly_df = get_regional_data(kw_list, kw_comp_list, timeframes, ct, geo, gprop)\n",
    "uae_region_2016_monthly_df.to_csv(\"uae_region_2016_monthly_interest_over_time.csv\", index=False)\n"
   ]
  },
  {
   "cell_type": "markdown",
   "metadata": {},
   "source": [
    "### Daily"
   ]
  },
  {
   "cell_type": "code",
   "execution_count": 139,
   "metadata": {},
   "outputs": [],
   "source": [
    "#UAE regions (daily) from Jan 2016 until December 2021\n",
    "geo = \"AE\"\n",
    "timeframes = '2021-07-01 2021-12-31'\n",
    "uae_2021_daily_df = get_interest_over_time(kw_list, kw_comp_list, timeframes, ct, geo, gprop)\n",
    "uae_2021_daily_df.index = pd.DatetimeIndex(uae_2021_daily_df.index)\n",
    "uae_2021_daily_df.index.name = \"date\"\n",
    "uae_2021_daily_df.to_csv(\"uae_2021_daily_interest_over_time.csv\")"
   ]
  },
  {
   "cell_type": "code",
   "execution_count": null,
   "metadata": {},
   "outputs": [],
   "source": [
    "#UAE regions (weekly)  from July 2021 until December 2021\n",
    "geo = \"AE\"\n",
    "timeframes = '2021-07-01 2021-12-31'\n",
    "uae_region_daily_2021_df = get_regional_data(kw_list, kw_comp_list, timeframes, ct, geo, gprop)\n",
    "uae_region_daily_2021_df.to_csv(\"uae_region_2021_daily_interest_over_time.csv\", index = False)"
   ]
  },
  {
   "cell_type": "markdown",
   "metadata": {},
   "source": [
    "## US"
   ]
  },
  {
   "cell_type": "code",
   "execution_count": 3,
   "metadata": {},
   "outputs": [],
   "source": [
    "#USA national (monthly) from Jan 2004 until December 2019\n",
    "geo = \"US\"\n",
    "timeframes = '2004-01-01 2019-12-31'\n",
    "us_2004_monthly_df = get_interest_over_time(kw_list, kw_comp_list, timeframes, ct, geo, gprop)\n",
    "us_2004_monthly_df.to_csv(\"us_2004_monthly_interest_over_time(terms).csv\")"
   ]
  },
  {
   "cell_type": "markdown",
   "metadata": {},
   "source": [
    "### Regional"
   ]
  },
  {
   "cell_type": "code",
   "execution_count": 6,
   "metadata": {},
   "outputs": [
    {
     "name": "stderr",
     "output_type": "stream",
     "text": [
      "C:\\Users\\User\\AppData\\Local\\Temp\\ipykernel_18436\\2962687094.py:25: FutureWarning: The frame.append method is deprecated and will be removed from pandas in a future version. Use pandas.concat instead.\n",
      "  us_region_2004_monthly_1_df = us_region_2004_monthly_1_df.append(regions)\n",
      "C:\\Users\\User\\AppData\\Local\\Temp\\ipykernel_18436\\2962687094.py:25: FutureWarning: The frame.append method is deprecated and will be removed from pandas in a future version. Use pandas.concat instead.\n",
      "  us_region_2004_monthly_1_df = us_region_2004_monthly_1_df.append(regions)\n",
      "C:\\Users\\User\\AppData\\Local\\Temp\\ipykernel_18436\\2962687094.py:25: FutureWarning: The frame.append method is deprecated and will be removed from pandas in a future version. Use pandas.concat instead.\n",
      "  us_region_2004_monthly_1_df = us_region_2004_monthly_1_df.append(regions)\n",
      "C:\\Users\\User\\AppData\\Local\\Temp\\ipykernel_18436\\2962687094.py:25: FutureWarning: The frame.append method is deprecated and will be removed from pandas in a future version. Use pandas.concat instead.\n",
      "  us_region_2004_monthly_1_df = us_region_2004_monthly_1_df.append(regions)\n",
      "C:\\Users\\User\\AppData\\Local\\Temp\\ipykernel_18436\\2962687094.py:25: FutureWarning: The frame.append method is deprecated and will be removed from pandas in a future version. Use pandas.concat instead.\n",
      "  us_region_2004_monthly_1_df = us_region_2004_monthly_1_df.append(regions)\n",
      "C:\\Users\\User\\AppData\\Local\\Temp\\ipykernel_18436\\2962687094.py:25: FutureWarning: The frame.append method is deprecated and will be removed from pandas in a future version. Use pandas.concat instead.\n",
      "  us_region_2004_monthly_1_df = us_region_2004_monthly_1_df.append(regions)\n",
      "C:\\Users\\User\\AppData\\Local\\Temp\\ipykernel_18436\\2962687094.py:25: FutureWarning: The frame.append method is deprecated and will be removed from pandas in a future version. Use pandas.concat instead.\n",
      "  us_region_2004_monthly_1_df = us_region_2004_monthly_1_df.append(regions)\n",
      "C:\\Users\\User\\AppData\\Local\\Temp\\ipykernel_18436\\2962687094.py:25: FutureWarning: The frame.append method is deprecated and will be removed from pandas in a future version. Use pandas.concat instead.\n",
      "  us_region_2004_monthly_1_df = us_region_2004_monthly_1_df.append(regions)\n",
      "C:\\Users\\User\\AppData\\Local\\Temp\\ipykernel_18436\\2962687094.py:25: FutureWarning: The frame.append method is deprecated and will be removed from pandas in a future version. Use pandas.concat instead.\n",
      "  us_region_2004_monthly_1_df = us_region_2004_monthly_1_df.append(regions)\n",
      "C:\\Users\\User\\AppData\\Local\\Temp\\ipykernel_18436\\2962687094.py:25: FutureWarning: The frame.append method is deprecated and will be removed from pandas in a future version. Use pandas.concat instead.\n",
      "  us_region_2004_monthly_1_df = us_region_2004_monthly_1_df.append(regions)\n",
      "C:\\Users\\User\\AppData\\Local\\Temp\\ipykernel_18436\\2962687094.py:25: FutureWarning: The frame.append method is deprecated and will be removed from pandas in a future version. Use pandas.concat instead.\n",
      "  us_region_2004_monthly_1_df = us_region_2004_monthly_1_df.append(regions)\n",
      "C:\\Users\\User\\AppData\\Local\\Temp\\ipykernel_18436\\2962687094.py:25: FutureWarning: The frame.append method is deprecated and will be removed from pandas in a future version. Use pandas.concat instead.\n",
      "  us_region_2004_monthly_1_df = us_region_2004_monthly_1_df.append(regions)\n",
      "C:\\Users\\User\\AppData\\Local\\Temp\\ipykernel_18436\\2962687094.py:25: FutureWarning: The frame.append method is deprecated and will be removed from pandas in a future version. Use pandas.concat instead.\n",
      "  us_region_2004_monthly_1_df = us_region_2004_monthly_1_df.append(regions)\n",
      "C:\\Users\\User\\AppData\\Local\\Temp\\ipykernel_18436\\2962687094.py:25: FutureWarning: The frame.append method is deprecated and will be removed from pandas in a future version. Use pandas.concat instead.\n",
      "  us_region_2004_monthly_1_df = us_region_2004_monthly_1_df.append(regions)\n",
      "C:\\Users\\User\\AppData\\Local\\Temp\\ipykernel_18436\\2962687094.py:25: FutureWarning: The frame.append method is deprecated and will be removed from pandas in a future version. Use pandas.concat instead.\n",
      "  us_region_2004_monthly_1_df = us_region_2004_monthly_1_df.append(regions)\n",
      "C:\\Users\\User\\AppData\\Local\\Temp\\ipykernel_18436\\2962687094.py:25: FutureWarning: The frame.append method is deprecated and will be removed from pandas in a future version. Use pandas.concat instead.\n",
      "  us_region_2004_monthly_1_df = us_region_2004_monthly_1_df.append(regions)\n",
      "C:\\Users\\User\\AppData\\Local\\Temp\\ipykernel_18436\\2962687094.py:25: FutureWarning: The frame.append method is deprecated and will be removed from pandas in a future version. Use pandas.concat instead.\n",
      "  us_region_2004_monthly_1_df = us_region_2004_monthly_1_df.append(regions)\n",
      "C:\\Users\\User\\AppData\\Local\\Temp\\ipykernel_18436\\2962687094.py:25: FutureWarning: The frame.append method is deprecated and will be removed from pandas in a future version. Use pandas.concat instead.\n",
      "  us_region_2004_monthly_1_df = us_region_2004_monthly_1_df.append(regions)\n",
      "C:\\Users\\User\\AppData\\Local\\Temp\\ipykernel_18436\\2962687094.py:25: FutureWarning: The frame.append method is deprecated and will be removed from pandas in a future version. Use pandas.concat instead.\n",
      "  us_region_2004_monthly_1_df = us_region_2004_monthly_1_df.append(regions)\n",
      "C:\\Users\\User\\AppData\\Local\\Temp\\ipykernel_18436\\2962687094.py:25: FutureWarning: The frame.append method is deprecated and will be removed from pandas in a future version. Use pandas.concat instead.\n",
      "  us_region_2004_monthly_1_df = us_region_2004_monthly_1_df.append(regions)\n",
      "C:\\Users\\User\\AppData\\Local\\Temp\\ipykernel_18436\\2962687094.py:25: FutureWarning: The frame.append method is deprecated and will be removed from pandas in a future version. Use pandas.concat instead.\n",
      "  us_region_2004_monthly_1_df = us_region_2004_monthly_1_df.append(regions)\n",
      "C:\\Users\\User\\AppData\\Local\\Temp\\ipykernel_18436\\2962687094.py:25: FutureWarning: The frame.append method is deprecated and will be removed from pandas in a future version. Use pandas.concat instead.\n",
      "  us_region_2004_monthly_1_df = us_region_2004_monthly_1_df.append(regions)\n",
      "C:\\Users\\User\\AppData\\Local\\Temp\\ipykernel_18436\\2962687094.py:25: FutureWarning: The frame.append method is deprecated and will be removed from pandas in a future version. Use pandas.concat instead.\n",
      "  us_region_2004_monthly_1_df = us_region_2004_monthly_1_df.append(regions)\n",
      "C:\\Users\\User\\AppData\\Local\\Temp\\ipykernel_18436\\2962687094.py:25: FutureWarning: The frame.append method is deprecated and will be removed from pandas in a future version. Use pandas.concat instead.\n",
      "  us_region_2004_monthly_1_df = us_region_2004_monthly_1_df.append(regions)\n",
      "C:\\Users\\User\\AppData\\Local\\Temp\\ipykernel_18436\\2962687094.py:25: FutureWarning: The frame.append method is deprecated and will be removed from pandas in a future version. Use pandas.concat instead.\n",
      "  us_region_2004_monthly_1_df = us_region_2004_monthly_1_df.append(regions)\n",
      "C:\\Users\\User\\AppData\\Local\\Temp\\ipykernel_18436\\2962687094.py:25: FutureWarning: The frame.append method is deprecated and will be removed from pandas in a future version. Use pandas.concat instead.\n",
      "  us_region_2004_monthly_1_df = us_region_2004_monthly_1_df.append(regions)\n"
     ]
    }
   ],
   "source": [
    "import math\n",
    "regions = []\n",
    "try:\n",
    "    pytrends.build_payload(\n",
    "        kw_list= [kw_list[0]],\n",
    "        cat = 0,\n",
    "        timeframe = timeframes,\n",
    "        geo = geo,\n",
    "        gprop = \"\"\n",
    "        )\n",
    "    #returns region ISO code\n",
    "except requests.exceptions.Timeout:\n",
    "    print(\"Timeout ocurred\")\n",
    "regions = pytrends.interest_by_region(inc_geo_code=True)\n",
    "#extract region ISO code from df\n",
    "geos = regions.geoCode\n",
    "#create regional data frame\n",
    "us_region_2004_monthly_1_df = pd.DataFrame()\n",
    "#gets interest over time for each region and then appends them together\n",
    "part_1 = range(math.ceil(len(geos)/2))\n",
    "\n",
    "for i in part_1:\n",
    "    regions = get_interest_over_time(kw_list, kw_comp_list, timeframes, ct, geos[i], gprop)\n",
    "    regions.insert(loc=0, column=\"Region\", value=geos.index[i])\n",
    "    us_region_2004_monthly_1_df = us_region_2004_monthly_1_df.append(regions)"
   ]
  },
  {
   "cell_type": "code",
   "execution_count": 161,
   "metadata": {},
   "outputs": [
    {
     "data": {
      "text/plain": [
       "{Idaho, Michigan, Illinois, Maryland, Indiana, Connecticut, Kansas, Kentucky, Arizona, Maine, Arkansas, Louisiana, Georgia, California, Florida, Mississippi, Alaska, Iowa, Colorado, Minnesota, Missouri, Alabama, Hawaii, Massachusetts, Delaware, District of Columbia}    26\n",
       "dtype: int64"
      ]
     },
     "execution_count": 161,
     "metadata": {},
     "output_type": "execute_result"
    }
   ],
   "source": [
    "pd.value_counts(set(us_region_2004_monthly_1_df.Region))"
   ]
  },
  {
   "cell_type": "code",
   "execution_count": 10,
   "metadata": {},
   "outputs": [
    {
     "name": "stderr",
     "output_type": "stream",
     "text": [
      "C:\\Users\\User\\AppData\\Local\\Temp\\ipykernel_18436\\2637969097.py:6: FutureWarning: The frame.append method is deprecated and will be removed from pandas in a future version. Use pandas.concat instead.\n",
      "  us_region_2004_monthly_2_df = us_region_2004_monthly_2_df.append(regions)\n",
      "C:\\Users\\User\\AppData\\Local\\Temp\\ipykernel_18436\\2637969097.py:6: FutureWarning: The frame.append method is deprecated and will be removed from pandas in a future version. Use pandas.concat instead.\n",
      "  us_region_2004_monthly_2_df = us_region_2004_monthly_2_df.append(regions)\n",
      "C:\\Users\\User\\AppData\\Local\\Temp\\ipykernel_18436\\2637969097.py:6: FutureWarning: The frame.append method is deprecated and will be removed from pandas in a future version. Use pandas.concat instead.\n",
      "  us_region_2004_monthly_2_df = us_region_2004_monthly_2_df.append(regions)\n",
      "C:\\Users\\User\\AppData\\Local\\Temp\\ipykernel_18436\\2637969097.py:6: FutureWarning: The frame.append method is deprecated and will be removed from pandas in a future version. Use pandas.concat instead.\n",
      "  us_region_2004_monthly_2_df = us_region_2004_monthly_2_df.append(regions)\n",
      "C:\\Users\\User\\AppData\\Local\\Temp\\ipykernel_18436\\2637969097.py:6: FutureWarning: The frame.append method is deprecated and will be removed from pandas in a future version. Use pandas.concat instead.\n",
      "  us_region_2004_monthly_2_df = us_region_2004_monthly_2_df.append(regions)\n",
      "C:\\Users\\User\\AppData\\Local\\Temp\\ipykernel_18436\\2637969097.py:6: FutureWarning: The frame.append method is deprecated and will be removed from pandas in a future version. Use pandas.concat instead.\n",
      "  us_region_2004_monthly_2_df = us_region_2004_monthly_2_df.append(regions)\n",
      "C:\\Users\\User\\AppData\\Local\\Temp\\ipykernel_18436\\2637969097.py:6: FutureWarning: The frame.append method is deprecated and will be removed from pandas in a future version. Use pandas.concat instead.\n",
      "  us_region_2004_monthly_2_df = us_region_2004_monthly_2_df.append(regions)\n",
      "C:\\Users\\User\\AppData\\Local\\Temp\\ipykernel_18436\\2637969097.py:6: FutureWarning: The frame.append method is deprecated and will be removed from pandas in a future version. Use pandas.concat instead.\n",
      "  us_region_2004_monthly_2_df = us_region_2004_monthly_2_df.append(regions)\n",
      "C:\\Users\\User\\AppData\\Local\\Temp\\ipykernel_18436\\2637969097.py:6: FutureWarning: The frame.append method is deprecated and will be removed from pandas in a future version. Use pandas.concat instead.\n",
      "  us_region_2004_monthly_2_df = us_region_2004_monthly_2_df.append(regions)\n",
      "C:\\Users\\User\\AppData\\Local\\Temp\\ipykernel_18436\\2637969097.py:6: FutureWarning: The frame.append method is deprecated and will be removed from pandas in a future version. Use pandas.concat instead.\n",
      "  us_region_2004_monthly_2_df = us_region_2004_monthly_2_df.append(regions)\n",
      "C:\\Users\\User\\AppData\\Local\\Temp\\ipykernel_18436\\2637969097.py:6: FutureWarning: The frame.append method is deprecated and will be removed from pandas in a future version. Use pandas.concat instead.\n",
      "  us_region_2004_monthly_2_df = us_region_2004_monthly_2_df.append(regions)\n",
      "C:\\Users\\User\\AppData\\Local\\Temp\\ipykernel_18436\\2637969097.py:6: FutureWarning: The frame.append method is deprecated and will be removed from pandas in a future version. Use pandas.concat instead.\n",
      "  us_region_2004_monthly_2_df = us_region_2004_monthly_2_df.append(regions)\n",
      "C:\\Users\\User\\AppData\\Local\\Temp\\ipykernel_18436\\2637969097.py:6: FutureWarning: The frame.append method is deprecated and will be removed from pandas in a future version. Use pandas.concat instead.\n",
      "  us_region_2004_monthly_2_df = us_region_2004_monthly_2_df.append(regions)\n",
      "C:\\Users\\User\\AppData\\Local\\Temp\\ipykernel_18436\\2637969097.py:6: FutureWarning: The frame.append method is deprecated and will be removed from pandas in a future version. Use pandas.concat instead.\n",
      "  us_region_2004_monthly_2_df = us_region_2004_monthly_2_df.append(regions)\n",
      "C:\\Users\\User\\AppData\\Local\\Temp\\ipykernel_18436\\2637969097.py:6: FutureWarning: The frame.append method is deprecated and will be removed from pandas in a future version. Use pandas.concat instead.\n",
      "  us_region_2004_monthly_2_df = us_region_2004_monthly_2_df.append(regions)\n",
      "C:\\Users\\User\\AppData\\Local\\Temp\\ipykernel_18436\\2637969097.py:6: FutureWarning: The frame.append method is deprecated and will be removed from pandas in a future version. Use pandas.concat instead.\n",
      "  us_region_2004_monthly_2_df = us_region_2004_monthly_2_df.append(regions)\n",
      "C:\\Users\\User\\AppData\\Local\\Temp\\ipykernel_18436\\2637969097.py:6: FutureWarning: The frame.append method is deprecated and will be removed from pandas in a future version. Use pandas.concat instead.\n",
      "  us_region_2004_monthly_2_df = us_region_2004_monthly_2_df.append(regions)\n",
      "C:\\Users\\User\\AppData\\Local\\Temp\\ipykernel_18436\\2637969097.py:6: FutureWarning: The frame.append method is deprecated and will be removed from pandas in a future version. Use pandas.concat instead.\n",
      "  us_region_2004_monthly_2_df = us_region_2004_monthly_2_df.append(regions)\n",
      "C:\\Users\\User\\AppData\\Local\\Temp\\ipykernel_18436\\2637969097.py:6: FutureWarning: The frame.append method is deprecated and will be removed from pandas in a future version. Use pandas.concat instead.\n",
      "  us_region_2004_monthly_2_df = us_region_2004_monthly_2_df.append(regions)\n",
      "C:\\Users\\User\\AppData\\Local\\Temp\\ipykernel_18436\\2637969097.py:6: FutureWarning: The frame.append method is deprecated and will be removed from pandas in a future version. Use pandas.concat instead.\n",
      "  us_region_2004_monthly_2_df = us_region_2004_monthly_2_df.append(regions)\n",
      "C:\\Users\\User\\AppData\\Local\\Temp\\ipykernel_18436\\2637969097.py:6: FutureWarning: The frame.append method is deprecated and will be removed from pandas in a future version. Use pandas.concat instead.\n",
      "  us_region_2004_monthly_2_df = us_region_2004_monthly_2_df.append(regions)\n",
      "C:\\Users\\User\\AppData\\Local\\Temp\\ipykernel_18436\\2637969097.py:6: FutureWarning: The frame.append method is deprecated and will be removed from pandas in a future version. Use pandas.concat instead.\n",
      "  us_region_2004_monthly_2_df = us_region_2004_monthly_2_df.append(regions)\n",
      "C:\\Users\\User\\AppData\\Local\\Temp\\ipykernel_18436\\2637969097.py:6: FutureWarning: The frame.append method is deprecated and will be removed from pandas in a future version. Use pandas.concat instead.\n",
      "  us_region_2004_monthly_2_df = us_region_2004_monthly_2_df.append(regions)\n",
      "C:\\Users\\User\\AppData\\Local\\Temp\\ipykernel_18436\\2637969097.py:6: FutureWarning: The frame.append method is deprecated and will be removed from pandas in a future version. Use pandas.concat instead.\n",
      "  us_region_2004_monthly_2_df = us_region_2004_monthly_2_df.append(regions)\n",
      "C:\\Users\\User\\AppData\\Local\\Temp\\ipykernel_18436\\2637969097.py:6: FutureWarning: The frame.append method is deprecated and will be removed from pandas in a future version. Use pandas.concat instead.\n",
      "  us_region_2004_monthly_2_df = us_region_2004_monthly_2_df.append(regions)\n"
     ]
    }
   ],
   "source": [
    "us_region_2004_monthly_2_df = pd.DataFrame()\n",
    "part_2 = range(math.ceil(len(geos)/2), len(geos))\n",
    "for i in part_2:\n",
    "    regions = get_interest_over_time(kw_list, kw_comp_list, timeframes, ct, geos[i], gprop)\n",
    "    regions.insert(loc=0, column=\"Region\", value=geos.index[i])\n",
    "    us_region_2004_monthly_2_df = us_region_2004_monthly_2_df.append(regions)"
   ]
  },
  {
   "cell_type": "code",
   "execution_count": 11,
   "metadata": {},
   "outputs": [
    {
     "name": "stderr",
     "output_type": "stream",
     "text": [
      "C:\\Users\\User\\AppData\\Local\\Temp\\ipykernel_18436\\3635247930.py:2: FutureWarning: The frame.append method is deprecated and will be removed from pandas in a future version. Use pandas.concat instead.\n",
      "  us_region_2004_monthly_df = us_region_2004_monthly_1_df.append(us_region_2004_monthly_2_df)\n"
     ]
    }
   ],
   "source": [
    "#code to join\n",
    "us_region_2004_monthly_df = us_region_2004_monthly_1_df.append(us_region_2004_monthly_2_df)\n",
    "us_region_2004_monthly_df.to_csv(\"us_region_2004_monthly_interest_over_time(terms).csv\")"
   ]
  },
  {
   "cell_type": "markdown",
   "metadata": {},
   "source": [
    "# Notes"
   ]
  },
  {
   "cell_type": "code",
   "execution_count": 120,
   "metadata": {},
   "outputs": [],
   "source": [
    "topicID_list = [getTopicID(kw) for kw in kw_list]\n",
    "comp_topicID = [getTopicID(kw) for kw in kw_comp_list] \n",
    "#keyword dictionary used to rename columns\n",
    "#keys are ids, values are keywords\n",
    "kw_dict = dict(zip(topicID_list, kw_list))\n",
    "kw_dict.update(dict(zip(comp_topicID, kw_comp_list)))\n",
    "\n"
   ]
  },
  {
   "cell_type": "markdown",
   "metadata": {},
   "source": [
    "Term search was done on these:"
   ]
  },
  {
   "cell_type": "code",
   "execution_count": 121,
   "metadata": {},
   "outputs": [
    {
     "name": "stdout",
     "output_type": "stream",
     "text": [
      "sustainability\n",
      "Climate disaster\n",
      "green investment\n",
      "green production\n"
     ]
    }
   ],
   "source": [
    "for key in kw_dict:\n",
    "    if(key == kw_dict[key]):\n",
    "        print(key)"
   ]
  },
  {
   "cell_type": "code",
   "execution_count": 122,
   "metadata": {},
   "outputs": [
    {
     "name": "stdout",
     "output_type": "stream",
     "text": [
      "Global warming\n",
      "climate change\n",
      "greenhouse gas\n",
      "renewable energy\n",
      "green energy\n",
      "Job\n",
      "health\n",
      "education\n",
      "drugs\n"
     ]
    }
   ],
   "source": [
    "for key in kw_dict:\n",
    "    if(key != kw_dict[key]):\n",
    "        print(kw_dict[key])\n"
   ]
  }
 ],
 "metadata": {
  "interpreter": {
   "hash": "369f2c481f4da34e4445cda3fffd2e751bd1c4d706f27375911949ba6bb62e1c"
  },
  "kernelspec": {
   "display_name": "Python 3.10.4 64-bit",
   "language": "python",
   "name": "python3"
  },
  "language_info": {
   "codemirror_mode": {
    "name": "ipython",
    "version": 3
   },
   "file_extension": ".py",
   "mimetype": "text/x-python",
   "name": "python",
   "nbconvert_exporter": "python",
   "pygments_lexer": "ipython3",
   "version": "3.10.4"
  },
  "orig_nbformat": 4
 },
 "nbformat": 4,
 "nbformat_minor": 2
}
